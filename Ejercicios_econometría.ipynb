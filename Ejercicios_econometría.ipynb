{
  "nbformat": 4,
  "nbformat_minor": 0,
  "metadata": {
    "colab": {
      "provenance": []
    },
    "kernelspec": {
      "name": "python3",
      "display_name": "Python 3"
    },
    "language_info": {
      "name": "python"
    }
  },
  "cells": [
    {
      "cell_type": "markdown",
      "source": [
        "**PRESENTADO POR:**\n",
        "\n",
        "Maria Reales - 64141084\n",
        "\n",
        "Daniela Ramirez - 64201111\n",
        "\n",
        "Nicolás Cardenas - 63181008"
      ],
      "metadata": {
        "id": "MGUx-KqcK2NB"
      }
    },
    {
      "cell_type": "markdown",
      "source": [
        "1) Crea un programa que tome una lista de números como entrada y devuelva la suma de todos los números en la lista."
      ],
      "metadata": {
        "id": "YvI5_K2bNO1C"
      }
    },
    {
      "cell_type": "code",
      "source": [
        "lista=[9,8,7,6,5,4,3,2,1]\n",
        "def sumar(lista):\n",
        "  return sum(lista)\n",
        "resultado = sumar(lista)\n",
        "print(\"La suma es igual a\", resultado)\n",
        "\n"
      ],
      "metadata": {
        "id": "2ZB9ZK7wSSLs",
        "colab": {
          "base_uri": "https://localhost:8080/"
        },
        "outputId": "45125db6-5670-4c63-89c9-8c6515d824f1"
      },
      "execution_count": null,
      "outputs": [
        {
          "output_type": "stream",
          "name": "stdout",
          "text": [
            "La suma es igual a 45\n"
          ]
        }
      ]
    },
    {
      "cell_type": "markdown",
      "source": [
        "2) Escribe un programa que tome dos listas y devuelva una nueva lista que contenga todos los elementos que son comunes a ambas listas."
      ],
      "metadata": {
        "id": "oFOCjhysSShL"
      }
    },
    {
      "cell_type": "code",
      "source": [
        "lista1 = [11,12,13,14,15,16,17]\n",
        "lista2 = [15,16,17,18,19,23,22]\n",
        "def elementos_comunes(lista1, lista2):\n",
        "    set1 = set(lista1)\n",
        "    set2 = set(lista2)\n",
        "    return list(set1.intersection(set2))\n",
        "comunes = elementos_comunes(lista1, lista2)\n",
        "print(\"Los elementos comunes son\", comunes)"
      ],
      "metadata": {
        "id": "tn0Fp9rxSUkE",
        "colab": {
          "base_uri": "https://localhost:8080/"
        },
        "outputId": "64ec0b45-5af5-44eb-cf6d-3c354ef912af"
      },
      "execution_count": null,
      "outputs": [
        {
          "output_type": "stream",
          "name": "stdout",
          "text": [
            "Los elementos comunes son [16, 17, 15]\n"
          ]
        }
      ]
    },
    {
      "cell_type": "markdown",
      "source": [
        "3) Crea un programa que tome una lista de cadenas como entrada y devuelva la longitud de la cadena más larga en la lista.\n"
      ],
      "metadata": {
        "id": "rYjG6-dKSU0D"
      }
    },
    {
      "cell_type": "code",
      "source": [
        "lista_de_cadenas=[\"submarino\",\"escopeta\",\"persuasivo\",\"incompleto\",\"educacion\",\"brochasos\"]\n",
        "def longi_max(lista_de_cadenas):\n",
        "    longitud_max = 0\n",
        "    for cadena in lista_de_cadenas:\n",
        "        longitud_cadena = len(cadena)\n",
        "        if longitud_cadena > longitud_max:\n",
        "            longitud_max = longitud_cadena\n",
        "    return longitud_max\n",
        "resultado =  longi_max(lista_de_cadenas)\n",
        "print(\"La longitud maxima de la lista de cadenas es\", resultado)"
      ],
      "metadata": {
        "id": "_O1-BxFlSmFX",
        "colab": {
          "base_uri": "https://localhost:8080/"
        },
        "outputId": "fad10e41-e619-4432-c3d7-3373b3c10282"
      },
      "execution_count": null,
      "outputs": [
        {
          "output_type": "stream",
          "name": "stdout",
          "text": [
            "La longitud maxima de la lista de cadenas es 10\n"
          ]
        }
      ]
    },
    {
      "cell_type": "markdown",
      "source": [
        "4) Escribe un programa que tome una lista de números como entrada y devuelva una nueva lista que contenga solo los números pares de la lista original."
      ],
      "metadata": {
        "id": "lXtbpY-PSmUe"
      }
    },
    {
      "cell_type": "code",
      "source": [
        "lista=[34,36,37,38,30,36,33,32,31]\n",
        "def numero_par(lista):\n",
        "    pares = []\n",
        "    for num in lista:\n",
        "        if num % 2 == 0:\n",
        "           pares.append(num)\n",
        "    return pares\n",
        "resultado = numero_par(lista)\n",
        "print(\"Numeros pares\", resultado)\n"
      ],
      "metadata": {
        "id": "HQijoDqDSqsP",
        "colab": {
          "base_uri": "https://localhost:8080/"
        },
        "outputId": "7711392e-7e07-4fb3-e147-1df2e12fc034"
      },
      "execution_count": null,
      "outputs": [
        {
          "output_type": "stream",
          "name": "stdout",
          "text": [
            "Numeros pares [34, 36, 38, 30, 36, 32]\n"
          ]
        }
      ]
    },
    {
      "cell_type": "markdown",
      "source": [
        "5) Crea un programa que tome una lista de cadenas como entrada y devuelva una nueva lista que contenga solo las cadenas que comienzan con la letra \"a\"."
      ],
      "metadata": {
        "id": "R4SJoEaBSq-3"
      }
    },
    {
      "cell_type": "code",
      "source": [
        "lista=(\"borrador\",\"daniela\",\"maria\",\"avion\",\"agricultura\",\"afeitado\",\"acomplejado\",\"focalizacion\")\n",
        "def starts_a(lista):\n",
        "    letra_a = []\n",
        "    for cadena in lista:\n",
        "        if cadena.startswith(\"a\"):\n",
        "            letra_a.append(cadena)\n",
        "    return letra_a\n",
        "resultado = starts_a(lista)\n",
        "print(\"Las cadenas que empiezan con a son\", resultado)\n"
      ],
      "metadata": {
        "id": "CFMkmDFOS2rv",
        "colab": {
          "base_uri": "https://localhost:8080/"
        },
        "outputId": "e71e8439-619b-433b-a863-00e9877c1580"
      },
      "execution_count": null,
      "outputs": [
        {
          "output_type": "stream",
          "name": "stdout",
          "text": [
            "Las cadenas que empiezan con a son ['avion', 'agricultura', 'afeitado', 'acomplejado']\n"
          ]
        }
      ]
    },
    {
      "cell_type": "markdown",
      "source": [
        "6) Escribe un programa que tome un diccionario como entrada y devuelva el valor asociado con una clave dada.\n"
      ],
      "metadata": {
        "id": "Yw_xJsy1S20X"
      }
    },
    {
      "cell_type": "code",
      "source": [
        "dict_claves = {\"salle\": 321, \"curitas\": 213, \"responsables\": 321}\n",
        "\n",
        "clave = input(\"Ingrese una clave: \")\n",
        "\n",
        "def valor(dict_claves):\n",
        "    if clave in dict_claves:\n",
        "       return dict_claves[clave]\n",
        "resultado = valor(dict_claves)\n",
        "print(\"El valor asociado a la clave\", clave, \"es\", resultado)"
      ],
      "metadata": {
        "id": "sUkaXrFdS5Y-",
        "colab": {
          "base_uri": "https://localhost:8080/"
        },
        "outputId": "045018b8-dbb5-4276-e4e6-d51fb1662d73"
      },
      "execution_count": null,
      "outputs": [
        {
          "output_type": "stream",
          "name": "stdout",
          "text": [
            "Ingrese una clave: salle\n",
            "El valor asociado a la clave salle es 321\n"
          ]
        }
      ]
    },
    {
      "cell_type": "markdown",
      "source": [
        "7) Crea un programa que tome una lista de diccionarios como entrada y devuelva una nueva lista que contenga solo los diccionarios que tienen una cierta clave."
      ],
      "metadata": {
        "id": "yYWGdBT7S5pH"
      }
    },
    {
      "cell_type": "code",
      "source": [
        "dic_color={\"Rosado\":1,\n",
        "           \"Verde\":2,\n",
        "           \"Blanco\":3,\n",
        "           \"Azul\":3,\n",
        "           \"Amarillo\":5,\n",
        "           \"Gris\":6}"
      ],
      "metadata": {
        "id": "EwX-T2oyTID4"
      },
      "execution_count": 42,
      "outputs": []
    },
    {
      "cell_type": "code",
      "source": [
        "def diccionarios_con_clave(lista_diccionarios, clave):\n",
        "    resultados = []\n",
        "    for diccionario in lista_diccionarios:\n",
        "        if clave in diccionario:\n",
        "            resultados.append(diccionario)\n",
        "    return resultados"
      ],
      "metadata": {
        "id": "YyLD3xBRo9xj"
      },
      "execution_count": 43,
      "outputs": []
    },
    {
      "cell_type": "code",
      "source": [
        "lista_diccionarios = [dic_color, {\"Rojo\": 4, \"Verde\": 1, \"Azul\": 2}, {\"Blanco\": 6, \"Negro\": 5}]"
      ],
      "metadata": {
        "id": "JrQQ4vFGpFlA"
      },
      "execution_count": 44,
      "outputs": []
    },
    {
      "cell_type": "code",
      "source": [
        "resultados = diccionarios_con_clave(lista_diccionarios, \"Azul\")\n",
        "print(\"Los diccionarios que contienen la clave 'Azul' son:\", resultados)"
      ],
      "metadata": {
        "id": "TdFP2w5wpJbg",
        "outputId": "cd040509-343b-4fbb-a746-8aeff73dabee",
        "colab": {
          "base_uri": "https://localhost:8080/"
        }
      },
      "execution_count": 45,
      "outputs": [
        {
          "output_type": "stream",
          "name": "stdout",
          "text": [
            "Los diccionarios que contienen la clave 'Azul' son: [{'Rosado': 1, 'Verde': 2, 'Blanco': 3, 'Azul': 3, 'Amarillo': 5, 'Gris': 6}, {'Rojo': 4, 'Verde': 1, 'Azul': 2}]\n"
          ]
        }
      ]
    },
    {
      "cell_type": "markdown",
      "source": [
        "8) Escribe un programa que tome un diccionario como entrada y devuelva un nuevo diccionario con las claves y los valores intercambiados."
      ],
      "metadata": {
        "id": "fKSbSBF8TIL4"
      }
    },
    {
      "cell_type": "code",
      "source": [
        "dic_color={\"Rosado\":1,\n",
        "           \"Verde\":2,\n",
        "           \"Blanco\":3,\n",
        "           \"Azul\":4,\n",
        "           \"Amarillo\":5,\n",
        "           \"Gris\":6}\n",
        "def Inter (A):\n",
        "  New_dic= {}\n",
        "  for K, V in A.items():\n",
        "    New_dic[V]=K\n",
        "    return New_dic\n",
        "resultado = Inter(dic_color)\n",
        "print(resultado)"
      ],
      "metadata": {
        "id": "9qYBb0EhTJ1I",
        "colab": {
          "base_uri": "https://localhost:8080/"
        },
        "outputId": "4675c76c-6e8a-4ed3-af03-327420a1c982"
      },
      "execution_count": null,
      "outputs": [
        {
          "output_type": "stream",
          "name": "stdout",
          "text": [
            "{1: 'Rosado'}\n"
          ]
        }
      ]
    },
    {
      "cell_type": "markdown",
      "source": [
        "9) Crea un programa que tome dos diccionarios como entrada y devuelva un nuevo diccionario que contenga solo los pares clave-valor que son comunes a ambos diccionarios."
      ],
      "metadata": {
        "id": "TPE9mhz4TKHg"
      }
    },
    {
      "cell_type": "code",
      "source": [
        "dic_animal1={'Vaca':'Leche',\n",
        "             'Perro':'Galleta',\n",
        "             'Tigre':'Rallas',\n",
        "             'Oso':'Miel'}\n",
        "dic_animal2={'Gato':'Miau',\n",
        "             'Pato':'Agua',\n",
        "             'Perro':'Galleta',\n",
        "             'Oso':'Miel'}\n",
        "def Par (C, D):\n",
        "  New_dic={}\n",
        "  for K in C:\n",
        "    if K in D and C[K] == D [K]:\n",
        "      New_dic [K] = C [K]\n",
        "      return New_dic\n",
        "resultado = Par(dic_animal1, dic_animal2)\n",
        "print(resultado)"
      ],
      "metadata": {
        "id": "MFWy7ag7TLlJ",
        "colab": {
          "base_uri": "https://localhost:8080/"
        },
        "outputId": "06d3ac4f-8d57-48de-8756-0510519fa0bd"
      },
      "execution_count": null,
      "outputs": [
        {
          "output_type": "stream",
          "name": "stdout",
          "text": [
            "{'Perro': 'Galleta'}\n"
          ]
        }
      ]
    },
    {
      "cell_type": "markdown",
      "source": [
        "10) Escribe un programa que tome un diccionario como entrada y devuelva un nuevo diccionario con las claves ordenadas alfabéticamente."
      ],
      "metadata": {
        "id": "2L9F8QxLTLvg"
      }
    },
    {
      "cell_type": "code",
      "source": [
        "dic_num={'Uno':1,\n",
        "         'Cuatro':4,\n",
        "         'Veinte':20,\n",
        "         'Trece':13}\n",
        "def orden (O):\n",
        "  New_dic={}\n",
        "  New_dic=sorted(O)\n",
        "  return New_dic\n",
        "resultado = orden(dic_num)\n",
        "print(resultado)\n"
      ],
      "metadata": {
        "id": "iyknXSUbTNJh",
        "colab": {
          "base_uri": "https://localhost:8080/"
        },
        "outputId": "7d864416-c602-4575-afd3-c7f1d5516730"
      },
      "execution_count": null,
      "outputs": [
        {
          "output_type": "stream",
          "name": "stdout",
          "text": [
            "['Cuatro', 'Trece', 'Uno', 'Veinte']\n"
          ]
        }
      ]
    },
    {
      "cell_type": "markdown",
      "source": [
        "11) Escribe una función que tome dos números como entrada y devuelva su suma."
      ],
      "metadata": {
        "id": "ie9B_Lm6TNeg"
      }
    },
    {
      "cell_type": "code",
      "source": [
        "X = int(input(\"Ingresa un numero\"))\n",
        "YX = int(input(\"Ingresa un numero\"))\n",
        "def suma():\n",
        "  Sum = X+YX\n",
        "  return Sum\n",
        "resultado = suma()\n",
        "print(\"El resultado es:\", resultado)\n"
      ],
      "metadata": {
        "id": "kXKdSzM4TP4C",
        "colab": {
          "base_uri": "https://localhost:8080/"
        },
        "outputId": "0860bf14-f022-416c-9c99-58d7dfc6d6d0"
      },
      "execution_count": null,
      "outputs": [
        {
          "output_type": "stream",
          "name": "stdout",
          "text": [
            "Ingresa un numero20\n",
            "Ingresa un numero180\n",
            "El resultado es: 200\n"
          ]
        }
      ]
    },
    {
      "cell_type": "markdown",
      "source": [
        "12) Crea una función que tome una lista de cadenas como entrada y devuelva una nueva lista que contenga solo las cadenas que son más largas que una longitud dada."
      ],
      "metadata": {
        "id": "UC_9GPi7TQFI"
      }
    },
    {
      "cell_type": "code",
      "source": [
        "X = ['Maleta', 'Caja', 'Sila', 'Violin', 'Esternocleidomastoideo', 'Cama', 'Otorrinolaringologo']\n",
        "m = int(input(\"Ingresa la longitud\"))\n",
        "def Longi (G):\n",
        "  return [New_list for New_list in G if len(New_list) > m]\n",
        "resultado = Longi(X)\n",
        "print(resultado)\n",
        "\n"
      ],
      "metadata": {
        "id": "d3ADaNe5TS1Z",
        "colab": {
          "base_uri": "https://localhost:8080/"
        },
        "outputId": "9369b957-bd72-4b34-c033-ef67570f480b"
      },
      "execution_count": null,
      "outputs": [
        {
          "output_type": "stream",
          "name": "stdout",
          "text": [
            "Ingresa la longitud6\n",
            "['Esternocleidomastoideo', 'Otorrinolaringologo']\n"
          ]
        }
      ]
    },
    {
      "cell_type": "markdown",
      "source": [
        "13) Escribe una función que tome una cadena como entrada y devuelva True si la cadena es un palíndromo, False en caso contrario."
      ],
      "metadata": {
        "id": "mz1Q3X3ETS-B"
      }
    },
    {
      "cell_type": "code",
      "source": [
        "C = 'Sueño'\n",
        "def palind (C):\n",
        "  C = C.lower()\n",
        "  return C == C [::-1]\n",
        "resultado = palind(C)\n",
        "print(resultado)\n",
        "\n"
      ],
      "metadata": {
        "id": "10zHz2EnTUw4",
        "colab": {
          "base_uri": "https://localhost:8080/"
        },
        "outputId": "a1042010-82f3-4cf8-8adc-b6531b9a3ec8"
      },
      "execution_count": null,
      "outputs": [
        {
          "output_type": "stream",
          "name": "stdout",
          "text": [
            "False\n"
          ]
        }
      ]
    },
    {
      "cell_type": "markdown",
      "source": [
        "14) Crea una función que tome una lista de números como entrada y devuelva el promedio de todos los números en la lista."
      ],
      "metadata": {
        "id": "VVGFvoXiTU8Y"
      }
    },
    {
      "cell_type": "code",
      "source": [
        "L = [12, 4, 5, 6, 20, 15, 32, 90, 102, 33]\n",
        "def prom (L):\n",
        "  return sum(L)/len(L)\n",
        "resultado = prom(L)\n",
        "print(resultado)"
      ],
      "metadata": {
        "id": "exD4K-c_TWY5",
        "colab": {
          "base_uri": "https://localhost:8080/"
        },
        "outputId": "8f351606-04ef-4071-89d2-0b7966226682"
      },
      "execution_count": null,
      "outputs": [
        {
          "output_type": "stream",
          "name": "stdout",
          "text": [
            "31.9\n"
          ]
        }
      ]
    },
    {
      "cell_type": "markdown",
      "source": [
        "15) Escribe una función que tome un diccionario como entrada y devuelva una lista de todas las claves en el diccionario."
      ],
      "metadata": {
        "id": "1iqNde31TWf4"
      }
    },
    {
      "cell_type": "code",
      "source": [
        "def keys_in_dict(my_letters):\n",
        "    return list(my_letters.keys())\n",
        "my_letters = {'z': 10, 'y': 11, 'x': 12}\n",
        "keys_in_dict(my_letters)\n",
        "\n"
      ],
      "metadata": {
        "id": "H0vIblbfTYSA"
      },
      "execution_count": null,
      "outputs": []
    },
    {
      "cell_type": "markdown",
      "source": [
        "16) Escribe un programa que tome una lista de números como entrada y devuelva el valor máximo en la lista.\n"
      ],
      "metadata": {
        "id": "ITkiMoZ8TYhI"
      }
    },
    {
      "cell_type": "code",
      "source": [
        "def obtener_valor_maximo(lista):\n",
        "    valor_maximo = lista[0]\n",
        "    for elemento in lista:\n",
        "      if elemento > valor_maximo:\n",
        "          valor_maximo = elemento\n",
        "    return valor_maximo\n",
        "lista_numeros = [10, 25, 37, 74, 3, 1]\n",
        "valor_maximo = obtener_valor_maximo(lista_numeros)\n",
        "print(\"El valor máximo es:\", valor_maximo)"
      ],
      "metadata": {
        "id": "ZPayha03TbyZ",
        "colab": {
          "base_uri": "https://localhost:8080/"
        },
        "outputId": "26e9ccdd-3f41-43d4-ac11-b84026d01922"
      },
      "execution_count": 20,
      "outputs": [
        {
          "output_type": "stream",
          "name": "stdout",
          "text": [
            "El valor máximo es: 74\n"
          ]
        }
      ]
    },
    {
      "cell_type": "markdown",
      "source": [
        "17) Crea un programa que tome una cadena como entrada y devuelva una nueva cadena que contenga solo las vocales en la cadena original.\n"
      ],
      "metadata": {
        "id": "Sj-L0ztWTcAQ"
      }
    },
    {
      "cell_type": "code",
      "source": [
        "dic_voc= \"aeiou\"\n",
        "def obtener_vocales(cadena):\n",
        "  vocales = \"aeiouAEIOU\"\n",
        "  cadena_vocales = \"\"\n",
        "  for caracter in cadena:\n",
        "    if caracter in vocales:\n",
        "          cadena_vocales += caracter\n",
        "  return cadena_vocales\n",
        "cadena = \"El poder de la imaginación nos hace infinitos \"\n",
        "cadena_vocales = obtener_vocales(cadena)\n",
        "print(\"Las vocales en la cadena son:\", cadena_vocales)\n"
      ],
      "metadata": {
        "id": "pCjUcyQzTmEw",
        "colab": {
          "base_uri": "https://localhost:8080/"
        },
        "outputId": "cb6af0e9-03ad-4435-f441-6e0f1fbfac50"
      },
      "execution_count": 48,
      "outputs": [
        {
          "output_type": "stream",
          "name": "stdout",
          "text": [
            "Las vocales en la cadena son: Eoeeaiaiaioaeiiio\n"
          ]
        }
      ]
    },
    {
      "cell_type": "markdown",
      "source": [
        "18) Escribe un programa que tome una lista de números como entrada y devuelva una nueva lista que contenga los valores al cuadrado de cada número en la lista original."
      ],
      "metadata": {
        "id": "l9YvINEZTmNg"
      }
    },
    {
      "cell_type": "code",
      "source": [
        "Lista = (\"5, 6, 7, 8, 9, 16, 25\")\n",
        "def cuadrados(lista):\n",
        "    resultado = []\n",
        "    for numero in lista:\n",
        "      resultado.append(numero**2)\n",
        "    return resultado\n",
        "\n"
      ],
      "metadata": {
        "id": "owX-XzJWTn9I"
      },
      "execution_count": 47,
      "outputs": []
    },
    {
      "cell_type": "code",
      "source": [
        "    numeros = [5, 6, 7, 8, 9, 16, 25]\n",
        "    cuadrados(numeros)"
      ],
      "metadata": {
        "id": "6AwSQejtkYxr",
        "outputId": "a6ec6109-5b14-4bc5-857f-6a324ce2c67e",
        "colab": {
          "base_uri": "https://localhost:8080/"
        }
      },
      "execution_count": 37,
      "outputs": [
        {
          "output_type": "execute_result",
          "data": {
            "text/plain": [
              "[25, 36, 49, 64, 81, 256, 625]"
            ]
          },
          "metadata": {},
          "execution_count": 37
        }
      ]
    },
    {
      "cell_type": "markdown",
      "source": [
        "19) Crea un programa que tome una cadena como entrada y devuelva una nueva cadena con los caracteres en orden inverso.\n"
      ],
      "metadata": {
        "id": "0V4p53XIToFQ"
      }
    },
    {
      "cell_type": "code",
      "source": [
        "Dic_cadena = \"El poder de la imaginación nos hace infinitos\"\n",
        "cadena = input(\"Ingresa una cadena: \")\n",
        "cadena_inversa = cadena[::-1]\n",
        "print(\"La cadena inversa es:\", cadena_inversa)"
      ],
      "metadata": {
        "id": "M2jJC2yjTpkR",
        "colab": {
          "base_uri": "https://localhost:8080/"
        },
        "outputId": "3a8ca5c7-24d2-481f-e35d-1a225c6f09e9"
      },
      "execution_count": 49,
      "outputs": [
        {
          "output_type": "stream",
          "name": "stdout",
          "text": [
            "Ingresa una cadena: El poder de la imaginación nos hace infinitos\n",
            "La cadena inversa es: sotinifni ecah son nóicanigami al ed redop lE\n"
          ]
        }
      ]
    },
    {
      "cell_type": "markdown",
      "source": [
        "20) Escribe un programa que tome una lista de cadenas como entrada y devuelva una nueva lista que contenga la longitud de cada cadena en la lista original.\n"
      ],
      "metadata": {
        "id": "WUFbkzRQTpyY"
      }
    },
    {
      "cell_type": "code",
      "source": [
        "Cadena = \"El poder de la imaginación nos hace infinitos \"\n",
        "def obtener_longitudes(cadenas):\n",
        "    longitudes = []\n",
        "    for cadena in cadenas:\n",
        "        longitudes.append(len(cadena))\n",
        "    return longitudes"
      ],
      "metadata": {
        "id": "6zJ1TtS5T2F5"
      },
      "execution_count": 46,
      "outputs": []
    },
    {
      "cell_type": "code",
      "source": [
        "cadenas = [\"El\", \"poder\", \"de\", \"la\", \"imaginación\", \"nos\", \"hace\", \"infinitos\", \"en\", \"Python\"]\n",
        "longitudes = obtener_longitudes(cadenas)\n",
        "print(longitudes)"
      ],
      "metadata": {
        "id": "KnKJs_qDm77c",
        "outputId": "25124303-4da8-44f7-ac80-ccb0545de17c",
        "colab": {
          "base_uri": "https://localhost:8080/"
        }
      },
      "execution_count": 41,
      "outputs": [
        {
          "output_type": "stream",
          "name": "stdout",
          "text": [
            "[2, 5, 2, 2, 11, 3, 4, 9, 2, 6]\n"
          ]
        }
      ]
    }
  ]
}